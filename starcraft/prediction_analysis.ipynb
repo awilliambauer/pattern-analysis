{
 "cells": [
  {
   "cell_type": "code",
   "execution_count": 87,
   "metadata": {},
   "outputs": [],
   "source": [
    "import numpy as np\n",
    "import pandas as pd\n",
    "from sklearn.model_selection import train_test_split\n",
    "from sklearn.ensemble import GradientBoostingClassifier\n",
    "from sklearn.metrics import accuracy_score\n",
    "from sklearn.model_selection import cross_val_score"
   ]
  },
  {
   "cell_type": "code",
   "execution_count": 141,
   "metadata": {},
   "outputs": [],
   "source": [
    "# Import data\n",
    "skill_lookup = {\n",
    "    1: \"Novice\",\n",
    "    2: \"Novice\",\n",
    "    3: None,\n",
    "    4: \"Proficient\",\n",
    "    5: \"Proficient\",\n",
    "    6: None,\n",
    "    7: \"Expert\"\n",
    "}\n",
    "league_lookup = {\n",
    "    1: \"Bronze\",\n",
    "    2: \"Silver\",\n",
    "    3: \"Gold\",\n",
    "    4: \"Platinum\",\n",
    "    5: \"Diamond\",\n",
    "    6: \"Master\",\n",
    "    7: \"Grandmaster\"\n",
    "}\n",
    "data = pd.read_csv(\"scouting_stats_cluster.csv\")\n",
    "# filter players in specified ranks of skill levels\n",
    "data_uid = data[data.Rank.isin([1, 2, 4, 5, 7])].copy()\n",
    "# mutate a new variable \"Skill\" to map ranks to skill levels\n",
    "data_uid[\"Skill\"] = data_uid.apply(lambda r: skill_lookup[r.Rank], axis = 1)\n",
    "# average each player stats (1 player per row)\n",
    "data_uid = data_uid.groupby([\"UID\", \"Skill\", \"Win\"], as_index = False).mean()\n",
    "# sample an equal number of players in each skill level\n",
    "data_uid = data_uid.groupby('Skill', as_index = False).apply(lambda r: r.sample(n = 3000))\n",
    "# data_uid"
   ]
  },
  {
   "cell_type": "code",
   "execution_count": 161,
   "metadata": {},
   "outputs": [],
   "source": [
    "def gradientBoosting(df, predictors, responses):\n",
    "    # Take X, y and use LOOCV\n",
    "    X = df[predictors].values\n",
    "    y = df[responses].values.ravel()\n",
    "    # Fit gradient boosting classification\n",
    "    clf = GradientBoostingClassifier(n_estimators = 100, learning_rate = 1.0, \n",
    "                                     max_depth = 1, random_state = 0)\n",
    "    scores = cross_val_score(clf, X, y, cv = 10)\n",
    "    # Results\n",
    "    print(np.mean(scores))\n",
    "    clf.fit(X, y)\n",
    "    print(clf.feature_importances_)"
   ]
  },
  {
   "cell_type": "code",
   "execution_count": 163,
   "metadata": {},
   "outputs": [
    {
     "name": "stdout",
     "output_type": "stream",
     "text": [
      "0.7741111111111111\n",
      "[0.01168686 0.98831314]\n",
      "0.7692222222222223\n",
      "[0.02336506 0.97663494]\n",
      "0.7895555555555556\n",
      "[0.66372396 0.33627604]\n",
      "0.7672222222222222\n",
      "[1.]\n",
      "0.7712222222222221\n",
      "[1.]\n",
      "0.5031111111111111\n",
      "[1.]\n",
      "0.7901111111111111\n",
      "[0.01102836 0.33180231 0.65716934]\n"
     ]
    }
   ],
   "source": [
    "predictors = [['ScoutingFrequency', 'APM'], ['ScoutingFrequency', 'CPS'], ['CPS', 'APM'],\n",
    "             ['CPS'], ['APM'], ['ScoutingFrequency'],\n",
    "             ['ScoutingFrequency', 'APM', 'CPS']]\n",
    "for predictor in predictors:\n",
    "    gradientBoosting(data_uid, predictor, ['Skill'])"
   ]
  },
  {
   "cell_type": "code",
   "execution_count": null,
   "metadata": {},
   "outputs": [],
   "source": []
  }
 ],
 "metadata": {
  "kernelspec": {
   "display_name": "Python 3",
   "language": "python",
   "name": "python3"
  },
  "language_info": {
   "codemirror_mode": {
    "name": "ipython",
    "version": 3
   },
   "file_extension": ".py",
   "mimetype": "text/x-python",
   "name": "python",
   "nbconvert_exporter": "python",
   "pygments_lexer": "ipython3",
   "version": "3.7.1"
  }
 },
 "nbformat": 4,
 "nbformat_minor": 4
}
