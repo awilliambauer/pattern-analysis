{
 "cells": [
  {
   "cell_type": "code",
   "execution_count": 7,
   "metadata": {},
   "outputs": [],
   "source": [
    "import numpy as np\n",
    "import pandas as pd\n",
    "from sklearn.model_selection import train_test_split, StratifiedKFold, KFold\n",
    "from sklearn.ensemble import GradientBoostingClassifier, GradientBoostingRegressor\n",
    "from sklearn.metrics import accuracy_score\n",
    "from sklearn.model_selection import cross_val_score\n",
    "from sklearn.linear_model import LogisticRegression\n",
    "from sklearn.model_selection import ParameterGrid\n",
    "from multiprocessing import Pool\n",
    "from sklearn.feature_selection import RFECV\n",
    "from sklearn.inspection import permutation_importance\n",
    "import matplotlib.pyplot as plt"
   ]
  },
  {
   "cell_type": "code",
   "execution_count": 8,
   "metadata": {},
   "outputs": [
    {
     "name": "stderr",
     "output_type": "stream",
     "text": [
      "/tmp/ipykernel_33293/1744049364.py:22: FutureWarning: In a future version of pandas all arguments of DataFrame.drop except for the argument 'labels' will be keyword-only\n",
      "  data = data.drop([\"Unnamed: 0\", \"game_id\"], 1)\n",
      "/tmp/ipykernel_33293/1744049364.py:29: FutureWarning: In a future version of pandas all arguments of DataFrame.drop except for the argument 'labels' will be keyword-only\n",
      "  data_uid_skill = data_uid_skill.drop([\"Unnamed: 0\", \"game_id\"], 1)\n"
     ]
    }
   ],
   "source": [
    "# Import data\n",
    "skill_lookup = {\n",
    "    1: \"Novice\",\n",
    "    2: \"Novice\",\n",
    "    3: None,\n",
    "    4: \"Proficient\",\n",
    "    5: \"Proficient\",\n",
    "    6: None,\n",
    "    7: \"Expert\"\n",
    "}\n",
    "league_lookup = {\n",
    "    1: \"Bronze\",\n",
    "    2: \"Silver\",\n",
    "    3: \"Gold\",\n",
    "    4: \"Platinum\",\n",
    "    5: \"Diamond\",\n",
    "    6: \"Master\",\n",
    "    7: \"Grandmaster\"\n",
    "}\n",
    "# WIN\n",
    "data = pd.read_csv(\"all_stats_win.csv\")\n",
    "data = data.drop([\"Unnamed: 0\", \"game_id\"], 1)\n",
    "data[\"cpm\"] = data.apply(lambda r: r['cps']*60, axis = 1)\n",
    "data[\"rel_cpm\"] = data.apply(lambda r: r['rel_cps']*60, axis = 1)\n",
    "data_by_rank = [data[data['rank'] == rank] for rank in league_lookup.keys()]\n",
    "\n",
    "# SKILL\n",
    "data_uid_skill = pd.read_csv(\"all_stats_skill.csv\")\n",
    "data_uid_skill = data_uid_skill.drop([\"Unnamed: 0\", \"game_id\"], 1)\n",
    "data_uid_skill[\"cpm\"] = data_uid_skill.apply(lambda r: r['cps']*60, axis = 1)\n",
    "data_uid_skill[\"rel_cpm\"] = data_uid_skill.apply(lambda r: r['rel_cps']*60, axis = 1)\n",
    "data_uid_skill = data_uid_skill[data_uid_skill['rank'].isin([1, 2, 4, 5, 7])].copy()\n",
    "data_uid_skill[\"skill\"] = data_uid_skill.apply(lambda r: skill_lookup[r['rank']], axis = 1)\n",
    "data_uid_skill = data_uid_skill.groupby([\"uid\", \"skill\", \"win\"], as_index = False).mean()\n",
    "data_uid_skill = data_uid_skill.groupby('skill', as_index = False).apply(lambda r: r.sample(n = 3000))"
   ]
  },
  {
   "cell_type": "code",
   "execution_count": 13,
   "metadata": {},
   "outputs": [],
   "source": [
    "def mean_2darray(arr_list):\n",
    "    res = arr_list[0]\n",
    "    for i in range(1, len(arr_list)):\n",
    "        res += arr_list[i]\n",
    "    return res/len(arr_list)\n",
    "    \n",
    "def powerset(s):\n",
    "    x = len(s)\n",
    "    masks = [1 << i for i in range(x)]\n",
    "    for i in range(1 << x):\n",
    "        yield [ss for mask, ss in zip(masks, s) if i & mask]\n",
    "        \n",
    "def score_est(est, X, y, cv):\n",
    "    X_sel = X\n",
    "    selector = RFECV(est, step=1, cv=cv)\n",
    "    selector.fit(X, y)\n",
    "    X_sel = selector.transform(X)\n",
    "    # score for these params is CV score fitting on X_sel\n",
    "    return np.mean(cross_val_score(est, X_sel, y, cv=cv)), selector.get_support()\n",
    "\n",
    "def plot_features_importance(plot_info, skill = False):\n",
    "    rank_index = 1\n",
    "    plot_index = 1\n",
    "    for plot_info_by_rank in plot_info:\n",
    "        rank = league_lookup[rank_index]\n",
    "        feature_importance = plot_info_by_rank[0]\n",
    "        sorted_idx = np.argsort(feature_importance)\n",
    "        pos = np.arange(sorted_idx.shape[0]) + .5\n",
    "        if skill:\n",
    "            fig = plt.figure(figsize=(20, 15))\n",
    "        else:\n",
    "            fig = plt.figure(figsize=(20, 8))\n",
    "        plt.subplot(7, 2, plot_index)\n",
    "        plot_index += 1\n",
    "        plt.barh(pos, feature_importance[sorted_idx], align='center')\n",
    "        plt.yticks(pos, plot_info_by_rank[2][sorted_idx])\n",
    "        if skill:\n",
    "            plt.title('Feature Importance (MDI) ')\n",
    "        else:\n",
    "            plt.title('Feature Importance (MDI) ' + rank)\n",
    "        \n",
    "        perm_importances = plot_info_by_rank[1]\n",
    "        importances_mean = perm_importances.mean(axis = 1)\n",
    "        sorted_idx = importances_mean.argsort()\n",
    "        plt.subplot(7, 2, plot_index)\n",
    "        plot_index += 1\n",
    "        plt.boxplot(perm_importances[sorted_idx].T,\n",
    "                    vert=False, labels = plot_info_by_rank[2][sorted_idx])\n",
    "        if skill:\n",
    "            plt.title(\"Permutation Importance (test set) \")\n",
    "        else:\n",
    "            plt.title(\"Permutation Importance (test set) \" + rank)\n",
    "        fig.tight_layout()\n",
    "        rank_index += 1 \n",
    "    plt.show()\n",
    "\n",
    "def predict(df, models, predictors_list, responses, grid, pool):\n",
    "    for model in models:\n",
    "        for predictors in predictors_list:\n",
    "            # Take X, y \n",
    "            X = df[predictors].values\n",
    "            y = df[responses].values.ravel()\n",
    "            # cross validation method - stratified k-fold\n",
    "            skf = StratifiedKFold(n_splits=3)\n",
    "            tasks = []\n",
    "            var_importances = []\n",
    "            perm_importances = []\n",
    "            for params in grid:\n",
    "                param_scores = []\n",
    "                est = model(**params)\n",
    "                tasks.append((pool.apply_async(score_est, (est, X, y, skf)), params))\n",
    "            scores = [(task.get(), params) for task, params in tasks]\n",
    "            (avg_score, support), best_params = max(scores, key=lambda x: x[0])\n",
    "            best_model = model(**best_params)\n",
    "            X_sel = X[:, support]\n",
    "            for train_index, test_index in skf.split(X_sel, y):\n",
    "                X_train, X_test = X_sel[train_index], X_sel[test_index]\n",
    "                y_train, y_test = y[train_index], y[test_index]\n",
    "                best_model.fit(X_train, y_train)\n",
    "                var_importances.append(best_model.feature_importances_)\n",
    "                perm_importance = permutation_importance(best_model, X_test, y_test, \n",
    "                                                         n_repeats = 10, random_state = 42, \n",
    "                                                         n_jobs = 2).importances\n",
    "                perm_importances.append(perm_importance)\n",
    "            var_importances = pd.DataFrame(var_importances, columns = np.array(predictors)[support])\n",
    "            print(\"Accuracy:\", avg_score)\n",
    "#             print(\"Variables importances\")\n",
    "#             print(var_importances.mean())\n",
    "#             print(\"Permutation importances\")\n",
    "#             print(perm_importances.mean())\n",
    "            print(\"Parameters\", best_params)\n",
    "            print(\"====================0.0====================\")\n",
    "        return var_importances.mean(), mean_2darray(np.array(perm_importances)), np.array(predictors)[support]"
   ]
  },
  {
   "cell_type": "code",
   "execution_count": 9,
   "metadata": {},
   "outputs": [
    {
     "data": {
      "text/plain": [
       "[]"
      ]
     },
     "execution_count": 9,
     "metadata": {},
     "output_type": "execute_result"
    }
   ],
   "source": [
    "predictors_win = ['rel_scout_rate_all', 'rel_cpm', 'rel_apm',\n",
    "             'rel_hotkey_rate', 'rel_macro_rate', 'game_length']\n",
    "predictors_powerset_win = list(powerset(predictors_win))\n",
    "predictors_powerset_win.pop(0)\n",
    "# print(predictors_powerset_win[len(predictors_powerset_win) - 1:])\n",
    "# print(predictors_powerset_win)\n",
    "\n",
    "predictors_skill = ['scout_count', 'scout_freq', 'apm',\n",
    "             'cpm', 'macro_util', 'rel_total_army']\n",
    "predictors_powerset_skill = list(powerset(predictors_skill))\n",
    "predictors_powerset_skill.pop(0)"
   ]
  },
  {
   "cell_type": "code",
   "execution_count": 10,
   "metadata": {},
   "outputs": [],
   "source": [
    "grid_quick = {\"loss\": [\"deviance\", \"exponential\"], \"max_depth\": [3, 5], \n",
    "       \"n_estimators\": [500], \"n_iter_no_change\": [100],\n",
    "       \"learning_rate\": [0.01, 0.1], \"subsample\": [0.5, 1.0]}"
   ]
  },
  {
   "cell_type": "code",
   "execution_count": 14,
   "metadata": {},
   "outputs": [
    {
     "name": "stdout",
     "output_type": "stream",
     "text": [
      "This is rank: Platinum\n",
      "Accuracy: 0.7032965142558728\n",
      "Parameters {'learning_rate': 0.01, 'loss': 'exponential', 'max_depth': 5, 'n_estimators': 500, 'n_iter_no_change': 100, 'subsample': 0.5}\n",
      "====================0.0====================\n"
     ]
    }
   ],
   "source": [
    "res = []\n",
    "with Pool(15) as pool:\n",
    "    i = 4\n",
    "    print(\"This is rank:\", league_lookup[i])\n",
    "    var_imp, perm_imp, predictors = predict(data[data['rank'] == i], [GradientBoostingClassifier], \n",
    "                                            predictors_powerset_win[len(predictors_powerset_win) - 1:],\n",
    "                                            ['win'], ParameterGrid(grid_quick), pool)\n",
    "    res.append((var_imp, perm_imp, predictors))\n"
   ]
  },
  {
   "cell_type": "code",
   "execution_count": 16,
   "metadata": {},
   "outputs": [
    {
     "data": {
      "image/png": "[encoded data removed]",
      "text/plain": [
       "<Figure size 1440x576 with 2 Axes>"
      ]
     },
     "metadata": {
      "needs_background": "light"
     },
     "output_type": "display_data"
    }
   ],
   "source": [
    "plot_features_importance(res[:1])"
   ]
  },
  {
   "cell_type": "code",
   "execution_count": null,
   "metadata": {},
   "outputs": [],
   "source": []
  }
 ],
 "metadata": {
  "kernelspec": {
   "display_name": "Python 3 (ipykernel)",
   "language": "python",
   "name": "python3"
  },
  "language_info": {
   "codemirror_mode": {
    "name": "ipython",
    "version": 3
   },
   "file_extension": ".py",
   "mimetype": "text/x-python",
   "name": "python",
   "nbconvert_exporter": "python",
   "pygments_lexer": "ipython3",
   "version": "3.9.6"
  }
 },
 "nbformat": 4,
 "nbformat_minor": 4
}
